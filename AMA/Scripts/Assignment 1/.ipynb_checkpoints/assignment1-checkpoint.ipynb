{
 "cells": [
  {
   "cell_type": "markdown",
   "metadata": {},
   "source": [
    "# Part One: Text Cleaning\n",
    "\n",
    "Implement a text-cleaning function that conforms to the test-cases outlined below."
   ]
  },
  {
   "cell_type": "code",
   "execution_count": 25,
   "metadata": {},
   "outputs": [],
   "source": [
    "import numpy as np\n",
    "import pandas\n"
   ]
  },
  {
   "cell_type": "code",
   "execution_count": 26,
   "metadata": {},
   "outputs": [],
   "source": [
    "# clean_number\n",
    "# Returns float/integer value of input text after minor text-cleaning, or \n",
    "# returns np.NaN if numeric value cannot be parsed without making excessive assumptions.\n",
    "# Input: text (string)\n",
    "# Output: numeric (int, float) or np.nan\n",
    "def clean_number(text):\n",
    "    #\n",
    "    # Your implementation here.\n",
    "    #\n",
    "    \n",
    "    intVal=int(0)\n",
    "    floatVal=float(1.0)\n",
    "    try:\n",
    "        intVal= int(text)\n",
    "    except:\n",
    "        intVal=0\n",
    "    \n",
    "    try:\n",
    "        floatVal = float(text)\n",
    "    except:\n",
    "        floatVal=0\n",
    "    if intVal>0:\n",
    "        return intVal\n",
    "    if floatVal>1:\n",
    "        return floatVal\n",
    "    return np.nan\n"
   ]
  },
  {
   "cell_type": "markdown",
   "metadata": {},
   "source": [
    "#### The clean_number method should conform to pass the following test-cases:"
   ]
  },
  {
   "cell_type": "code",
   "execution_count": 27,
   "metadata": {},
   "outputs": [],
   "source": [
    "result = clean_number('90')\n",
    "assert(result == 90), result"
   ]
  },
  {
   "cell_type": "code",
   "execution_count": 28,
   "metadata": {},
   "outputs": [],
   "source": [
    "result = clean_number(' 90')\n",
    "assert(result == 90), result"
   ]
  },
  {
   "cell_type": "code",
   "execution_count": 29,
   "metadata": {},
   "outputs": [],
   "source": [
    "result = clean_number('90.0')\n",
    "assert(result == 90), result"
   ]
  },
  {
   "cell_type": "code",
   "execution_count": 30,
   "metadata": {},
   "outputs": [],
   "source": [
    "result = clean_number('9.0.0')\n",
    "assert(np.isnan(result)), result"
   ]
  },
  {
   "cell_type": "code",
   "execution_count": 31,
   "metadata": {},
   "outputs": [],
   "source": [
    "result = clean_number('90.0!')\n",
    "assert(np.isnan(result)), result"
   ]
  },
  {
   "cell_type": "code",
   "execution_count": 32,
   "metadata": {},
   "outputs": [],
   "source": [
    "result = clean_number('90*')\n",
    "assert(np.isnan(result)), result"
   ]
  },
  {
   "cell_type": "code",
   "execution_count": 33,
   "metadata": {},
   "outputs": [],
   "source": [
    "result = clean_number('90hello')\n",
    "assert(np.isnan(result)), result"
   ]
  },
  {
   "cell_type": "code",
   "execution_count": 34,
   "metadata": {},
   "outputs": [],
   "source": [
    "result = clean_number('hello90')\n",
    "assert(np.isnan(result)), result"
   ]
  },
  {
   "cell_type": "markdown",
   "metadata": {},
   "source": [
    "# Part Two: Weather Data\n",
    "\n",
    "1. Read an input file, 'weather.csv' to a Pandas DataFrame\n",
    "\n",
    "\n",
    "2. Add a new column that represents the temperature spread for the day. \n",
    "\n",
    "    **Spread** = maximum temp (**MxT**) - minimum temp (**MnT**)\n",
    "    \n",
    "Hint: The method implemented above *might* be useful!"
   ]
  },
  {
   "cell_type": "code",
   "execution_count": 106,
   "metadata": {},
   "outputs": [],
   "source": [
    "# Read file here\n",
    "import pandas as pd\n",
    "myDataFrame = pd.read_csv('weather.csv',delim_whitespace=True)"
   ]
  },
  {
   "cell_type": "code",
   "execution_count": 107,
   "metadata": {
    "scrolled": false
   },
   "outputs": [],
   "source": [
    "# Add a new column for the temperature spread here.\n",
    "myDataFrame.insert(17,'Spread','')\n",
    "for indx in range(len(myDataFrame)) :\n",
    "    if indx != len(myDataFrame.index)-1:\n",
    "        try:  \n",
    "            mxT = int(myDataFrame.iloc[indx, 1])\n",
    "            mnT = int(myDataFrame.iloc[indx, 2])\n",
    "            myDataFrame.iloc[indx, 17] = mxT - mnT\n",
    "        except:\n",
    "            myDataFrame.iloc[indx, 17] = 'null'\n",
    "    else:\n",
    "        myDataFrame.iloc[indx, 17] = 'null'\n"
   ]
  },
  {
   "cell_type": "code",
   "execution_count": 108,
   "metadata": {},
   "outputs": [
    {
     "name": "stdout",
     "output_type": "stream",
     "text": [
      "0     29\n",
      "1     16\n",
      "2     22\n",
      "3     18\n",
      "4     24\n",
      "5     20\n",
      "6     16\n",
      "7     21\n",
      "9     20\n",
      "10    32\n",
      "11    15\n",
      "12    11\n",
      "13     2\n",
      "14     9\n",
      "15    20\n",
      "16    24\n",
      "17    30\n",
      "18    20\n",
      "19    27\n",
      "20    27\n",
      "21    26\n",
      "22    22\n",
      "23    13\n",
      "24    18\n",
      "26    19\n",
      "27    16\n",
      "28    22\n",
      "29    45\n",
      "Name: Spread, dtype: object\n"
     ]
    }
   ],
   "source": [
    "# Output the minimum valid temperature spread (exclude NaN)\n",
    "my_df2= myDataFrame[(myDataFrame['Spread']!=\"null\")]\n",
    "print(my_df2['Spread'])"
   ]
  },
  {
   "cell_type": "code",
   "execution_count": 109,
   "metadata": {},
   "outputs": [
    {
     "name": "stdout",
     "output_type": "stream",
     "text": [
      "0      1\n",
      "1      2\n",
      "2      3\n",
      "3      4\n",
      "4      5\n",
      "5      6\n",
      "6      7\n",
      "7      8\n",
      "9     10\n",
      "10    11\n",
      "11    12\n",
      "12    13\n",
      "13    14\n",
      "14    15\n",
      "15    16\n",
      "16    17\n",
      "17    18\n",
      "18    19\n",
      "19    20\n",
      "20    21\n",
      "21    22\n",
      "22    23\n",
      "23    24\n",
      "24    25\n",
      "26    27\n",
      "27    28\n",
      "28    29\n",
      "29    30\n",
      "Name: Dy, dtype: object\n"
     ]
    }
   ],
   "source": [
    "# Output the day(s) corresponding with the minimum temperature spread\n",
    "print(my_df2['Dy'])\n"
   ]
  },
  {
   "cell_type": "markdown",
   "metadata": {},
   "source": [
    "# Part Three: Soccer League Table\n",
    "\n",
    "The file 'football.csv' contains soccer results. Add a new column that represents the difference in 'for' (F) and 'against' (A) goals.  The columns labeled ‘F’ and ‘A’ contain the total number of goals scored for and against each team in that season (so Arsenal scored 79 goals against opponents and had 36 goals scored against them).\n",
    "\n",
    "Write a program to print the name of the team with the smallest difference in ‘for’ and ‘against’ goals.\n"
   ]
  },
  {
   "cell_type": "code",
   "execution_count": 117,
   "metadata": {},
   "outputs": [
    {
     "name": "stdout",
     "output_type": "stream",
     "text": [
      "             Team     P      W      L      D      F      A   Pts Difference\n",
      "0         Arsenal  38.0     26      9      3     79     36  87.0           \n",
      "1       Liverpool  38.0     24      8      6     67     30  80.0           \n",
      "2    Manchester_U  38.0     24      5      9     87     45  77.0           \n",
      "3       Newcastle  38.0    21w     8L      9   F 74   A 52  71.0           \n",
      "4           Leeds  38.0     18     12      8     53     37  66.0           \n",
      "5         Chelsea  38.0     17     13      8     66     38  64.0           \n",
      "6        West_Ham  38.0     15      8    *15     48     57  53.0           \n",
      "7     Aston_Villa  38.0     12     14     12     46     47  50.0           \n",
      "8       Tottenham  38.0    14w     8l     16     49     53  50.0           \n",
      "9       Blackburn  38.0     12     10     16     55     51  46.0           \n",
      "10    Southampton  38.0     12      9     17     46     54  45.0           \n",
      "11  Middlesbrough  38.0     12      9     17   F 35   A 47  45.0           \n",
      "12         Fulham  38.0     10     14     14     36     44  44.0           \n",
      "13       Charlton  38.0     10     14     14     38     49  44.0           \n",
      "14        Everton  38.0     11     10     17     45     57  43.0           \n",
      "15         Bolton  38.0      9     13     16     44     62  40.0           \n",
      "16     Sunderland  38.0  10.00  10.00  18.00  29.00  51.00  40.0           \n",
      "17        Ipswich  38.0      9      9     20     41     64  36.0           \n",
      "18          Derby  38.0      8      6     24     33     63  30.0           \n",
      "19      Leicester  38.0      5     13     20   30**     64  28.0           \n",
      "6          West_Ham\n",
      "7       Aston_Villa\n",
      "8         Tottenham\n",
      "10      Southampton\n",
      "11    Middlesbrough\n",
      "12           Fulham\n",
      "13         Charlton\n",
      "14          Everton\n",
      "15           Bolton\n",
      "16       Sunderland\n",
      "17          Ipswich\n",
      "18            Derby\n",
      "19        Leicester\n",
      "Name: Team, dtype: object\n"
     ]
    }
   ],
   "source": [
    "# Your work here\n",
    "import pandas as pd\n",
    "myDataFrame = pd.read_csv('football.csv')\n",
    "myDataFrame.insert(8,'Difference','')\n",
    "print(myDataFrame)\n",
    "for indx in range(len(myDataFrame)):\n",
    "    FData = float(myDataFrame.iloc[indx, 5].replace(\"*\",\"\").replace(\"F\",\"\"))\n",
    "    AData = float(myDataFrame.iloc[indx, 6].replace(\"*\",\"\").replace(\"A\",\"\"))\n",
    "    DiffData = FData-AData\n",
    "    myDataFrame.iloc[indx, 8]=DiffData\n",
    "print(myDataFrame[(myDataFrame.Difference <=0)]['Team'])\n",
    "    \n"
   ]
  },
  {
   "cell_type": "markdown",
   "metadata": {},
   "source": [
    "# Part Four: DRY Fusion\n",
    "\n",
    "Take the two programs written previously and factor out as much common code as possible, leaving you with two smaller programs and some kind of shared functionality."
   ]
  },
  {
   "cell_type": "code",
   "execution_count": null,
   "metadata": {},
   "outputs": [],
   "source": [
    "# Your work here\n"
   ]
  },
  {
   "cell_type": "code",
   "execution_count": null,
   "metadata": {},
   "outputs": [],
   "source": []
  }
 ],
 "metadata": {
  "kernelspec": {
   "display_name": "Python 3 (ipykernel)",
   "language": "python",
   "name": "python3"
  },
  "language_info": {
   "codemirror_mode": {
    "name": "ipython",
    "version": 3
   },
   "file_extension": ".py",
   "mimetype": "text/x-python",
   "name": "python",
   "nbconvert_exporter": "python",
   "pygments_lexer": "ipython3",
   "version": "3.7.8"
  }
 },
 "nbformat": 4,
 "nbformat_minor": 2
}
